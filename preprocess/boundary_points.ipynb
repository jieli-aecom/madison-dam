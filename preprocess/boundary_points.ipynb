{
 "cells": [
  {
   "cell_type": "code",
   "execution_count": 1,
   "id": "d1450f80",
   "metadata": {},
   "outputs": [],
   "source": [
    "import numpy as np\n",
    "import pandas as pd\n",
    "import geopandas as gpd\n",
    "import json\n",
    "\n",
    "new_boundary = gpd.read_file(\"preprocess/data/new_boundary/new_boundary.shp\")\n",
    "geojson_dict = json.loads(new_boundary.to_crs(4326).to_json())\n",
    "with open(\"src/consts/boundary.ts\", \"w\") as f:\n",
    "    f.write(\"export const boundary = \")\n",
    "    json.dump(geojson_dict, f)\n",
    "    f.write(\";\")"
   ]
  },
  {
   "cell_type": "code",
   "execution_count": 2,
   "id": "0739151d",
   "metadata": {},
   "outputs": [],
   "source": [
    "def sample_line_points(line, spacing):\n",
    "    \"\"\"\n",
    "    Returns evenly spaced points along a LineString.\n",
    "    \"\"\"\n",
    "    length = line.length\n",
    "    num_points = int(np.floor(length / spacing))\n",
    "    distances = np.linspace(0, length, num_points, endpoint=False)\n",
    "    return [line.interpolate(distance) for distance in distances]"
   ]
  },
  {
   "cell_type": "code",
   "execution_count": 3,
   "id": "986434ab",
   "metadata": {},
   "outputs": [],
   "source": [
    "spacing = 15\n",
    "all_points = []\n",
    "for geom in new_boundary.geometry:\n",
    "    if geom.geom_type == 'LineString':\n",
    "        all_points.extend(sample_line_points(geom, spacing))\n",
    "    elif geom.geom_type == 'MultiLineString':\n",
    "        for line in geom.geoms:\n",
    "            all_points.extend(sample_line_points(line, spacing))\n",
    "points_gdf = gpd.GeoDataFrame(geometry=all_points, crs=new_boundary.crs)"
   ]
  },
  {
   "cell_type": "code",
   "execution_count": 32,
   "id": "80ae92bb",
   "metadata": {},
   "outputs": [],
   "source": [
    "coords = points_gdf.to_crs(4326).geometry\n",
    "latlon_list = [[pt.y, pt.x] for pt in coords]\n",
    "\n",
    "# Write to TypeScript file\n",
    "with open(\"src/consts/boundary-points.ts\", \"w\") as f:\n",
    "    f.write(\"export const boundaryPoints = \")\n",
    "    json.dump(latlon_list, f)\n",
    "    f.write(\";\")"
   ]
  }
 ],
 "metadata": {
  "kernelspec": {
   "display_name": "env",
   "language": "python",
   "name": "python3"
  },
  "language_info": {
   "codemirror_mode": {
    "name": "ipython",
    "version": 3
   },
   "file_extension": ".py",
   "mimetype": "text/x-python",
   "name": "python",
   "nbconvert_exporter": "python",
   "pygments_lexer": "ipython3",
   "version": "3.12.9"
  }
 },
 "nbformat": 4,
 "nbformat_minor": 5
}
